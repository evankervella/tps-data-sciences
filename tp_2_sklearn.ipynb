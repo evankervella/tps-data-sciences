{
 "cells": [
  {
   "cell_type": "markdown",
   "metadata": {},
   "source": [
    "# Introduction à Sklearn\n",
    "\n",
    "Voir http://scikit-learn.org/stable/"
   ]
  },
  {
   "cell_type": "markdown",
   "metadata": {},
   "source": [
    "### Chargement des premiers modules nécessaires"
   ]
  },
  {
   "cell_type": "code",
   "execution_count": 1,
   "metadata": {},
   "outputs": [],
   "source": [
    "%matplotlib inline\n",
    "import numpy as np\n",
    "from sklearn import datasets"
   ]
  },
  {
   "cell_type": "markdown",
   "metadata": {},
   "source": [
    "### Chargement des données IRIS"
   ]
  },
  {
   "cell_type": "code",
   "execution_count": 2,
   "metadata": {},
   "outputs": [
    {
     "name": "stdout",
     "output_type": "stream",
     "text": [
      "(150, 4)\n",
      "(150, 4)\n",
      "(150,)\n"
     ]
    }
   ],
   "source": [
    "iris=datasets.load_iris()\n",
    "X_iris, y_iris = iris.data, iris.target\n",
    "print X_iris.shape\n",
    "X,y = X_iris, y_iris\n",
    "print X.shape\n",
    "print y.shape"
   ]
  },
  {
   "cell_type": "markdown",
   "metadata": {},
   "source": [
    "### Utilisation d'utilitaires de gestion des données\n",
    "- train_test_split\n",
    "- cross_validation \n",
    "- etc\n",
    "\n",
    "\n",
    "Voir http://scikit-learn.org/stable/modules/cross_validation.html#\n"
   ]
  },
  {
   "cell_type": "code",
   "execution_count": 4,
   "metadata": {},
   "outputs": [
    {
     "name": "stdout",
     "output_type": "stream",
     "text": [
      "(135, 4) (135, 2)\n"
     ]
    }
   ],
   "source": [
    "from sklearn.cross_validation import train_test_split\n",
    "X_train, X_test, y_train, y_test = train_test_split(X,y,test_size=0.1, random_state = 15)\n",
    "X_train2 = X_train[:,:2]\n",
    "X_test2 = X_test[:,:2]\n",
    "print X_train.shape, X_train2.shape"
   ]
  },
  {
   "cell_type": "markdown",
   "metadata": {},
   "source": [
    "Affichage des données\n",
    "---------------------"
   ]
  },
  {
   "cell_type": "code",
   "execution_count": 5,
   "metadata": {},
   "outputs": [],
   "source": [
    "import matplotlib.pyplot as plt"
   ]
  },
  {
   "cell_type": "code",
   "execution_count": 6,
   "metadata": {},
   "outputs": [
    {
     "data": {
      "image/png": "[encoded data removed]",
      "text/plain": [
       "<matplotlib.figure.Figure at 0x108123ed0>"
      ]
     },
     "metadata": {},
     "output_type": "display_data"
    }
   ],
   "source": [
    "plt.figure(1)\n",
    "\n",
    "colors = ['red','greenyellow','blue']\n",
    "for i in xrange(len(colors)):\n",
    "    xs = X_train[:,0][y_train==i]\n",
    "    ys = X_train[:,1][y_train==i]\n",
    "    plt.scatter(xs,ys,c=colors[i])\n",
    "plt.legend(iris.target_names)\n",
    "plt.show()"
   ]
  },
  {
   "cell_type": "markdown",
   "metadata": {},
   "source": [
    "## Normalisation\n",
    "\n",
    "Voir http://scikit-learn.org/stable/modules/classes.html#module-sklearn.preprocessing"
   ]
  },
  {
   "cell_type": "code",
   "execution_count": 7,
   "metadata": {},
   "outputs": [],
   "source": [
    "from sklearn import preprocessing\n",
    "X_scaled = preprocessing.scale(X)\n"
   ]
  },
  {
   "cell_type": "code",
   "execution_count": 8,
   "metadata": {},
   "outputs": [
    {
     "name": "stdout",
     "output_type": "stream",
     "text": [
      "(135, 4) (135, 2)\n"
     ]
    }
   ],
   "source": [
    "X_train, X_test, y_train, y_test = train_test_split(X_scaled,y,test_size=0.1, random_state = 15)\n",
    "X_train2 = X_train[:,:2]\n",
    "X_test2 = X_test[:,:2]\n",
    "print X_train.shape, X_train2.shape"
   ]
  },
  {
   "cell_type": "code",
   "execution_count": 9,
   "metadata": {},
   "outputs": [
    {
     "data": {
      "image/png": "[encoded data removed]",
      "text/plain": [
       "<matplotlib.figure.Figure at 0x107e89190>"
      ]
     },
     "metadata": {},
     "output_type": "display_data"
    }
   ],
   "source": [
    "plt.figure(1)\n",
    "\n",
    "colors = ['red','greenyellow','blue']\n",
    "for i in xrange(len(colors)):\n",
    "    xs = X_train[:,0][y_train==i]\n",
    "    ys = X_train[:,1][y_train==i]\n",
    "    plt.scatter(xs,ys,c=colors[i])\n",
    "    xs = X_train[:,0][y_train==i]\n",
    "    ys = X_train[:,1][y_train==i]\n",
    "    plt.scatter(xs,ys,c=colors[i])\n",
    "plt.legend(iris.target_names)\n",
    "plt.show()"
   ]
  },
  {
   "cell_type": "markdown",
   "metadata": {},
   "source": [
    "# Classification simple"
   ]
  },
  {
   "cell_type": "markdown",
   "metadata": {},
   "source": [
    "Classifieur sur les données brutes\n",
    "----------------------------------\n",
    "Tout objet dans scikit_learn a des attributs qui sont accessibles par nomobjet.nom_attribut et dont les noms sont terminés par le caractère \"souligné\".\n",
    "Par exemple un objet de la classe classifieur SGD a des paramètres (qui sont expliqués sur la doc en ligne à http://scikit-learn.org/stable/modules/generated/sklearn.linear_model.SGDClassifier.html) et qui sont accessibles par ce moyen.\n",
    "\n",
    "\n",
    "Dans sklearn quel que soit le modèle de prédiction (régression, projection, classification etc) on dispose des méthodes:\n",
    "- fit (pour apprendre)\n",
    "- predict (pour prédire)\n",
    "- fit_and_transform (pour apprendre et transformer)\n",
    "\n",
    "On choisit d'abord un modèle, puis on le fit puis on s'en sert pour prédire\n"
   ]
  },
  {
   "cell_type": "code",
   "execution_count": 11,
   "metadata": {},
   "outputs": [
    {
     "name": "stdout",
     "output_type": "stream",
     "text": [
      "SGDClassifier(alpha=0.001, average=False, class_weight=None, epsilon=0.1,\n",
      "       eta0=0.01, fit_intercept=True, l1_ratio=0.15,\n",
      "       learning_rate='optimal', loss='hinge', max_iter=200, n_iter=None,\n",
      "       n_jobs=1, penalty='l2', power_t=0.5, random_state=None,\n",
      "       shuffle=True, tol=None, verbose=0, warm_start=False)\n",
      "[[-4.11727556  2.10041008]\n",
      " [ 0.05409646 -1.04799122]\n",
      " [ 1.45599728 -0.06420096]]\n",
      "[-2.86723368 -0.9759459  -0.82246065]\n"
     ]
    },
    {
     "name": "stderr",
     "output_type": "stream",
     "text": [
      "/Library/Frameworks/Python.framework/Versions/2.7/lib/python2.7/site-packages/sklearn/linear_model/stochastic_gradient.py:73: DeprecationWarning: n_iter parameter is deprecated in 0.19 and will be removed in 0.21. Use max_iter and tol instead.\n",
      "  DeprecationWarning)\n"
     ]
    }
   ],
   "source": [
    "from sklearn.linear_model import SGDClassifier\n",
    "clf = SGDClassifier(alpha=0.001, n_iter=200, loss=\"hinge\", penalty=\"l2\", eta0=0.01)\n",
    "clf.fit(X_train2, y_train)\n",
    "print clf\n",
    "print clf.coef_\n",
    "print clf.intercept_"
   ]
  },
  {
   "cell_type": "markdown",
   "metadata": {},
   "source": [
    "# Affichage des frontières de  décision"
   ]
  },
  {
   "cell_type": "code",
   "execution_count": 12,
   "metadata": {},
   "outputs": [
    {
     "name": "stderr",
     "output_type": "stream",
     "text": [
      "/Library/Frameworks/Python.framework/Versions/2.7/lib/python2.7/site-packages/sklearn/linear_model/stochastic_gradient.py:73: DeprecationWarning: n_iter parameter is deprecated in 0.19 and will be removed in 0.21. Use max_iter and tol instead.\n",
      "  DeprecationWarning)\n",
      "/Library/Frameworks/Python.framework/Versions/2.7/lib/python2.7/site-packages/matplotlib/pyplot.py:3315: MatplotlibDeprecationWarning: The 'hold' keyword argument is deprecated since 2.0.\n",
      "  mplDeprecation)\n"
     ]
    },
    {
     "name": "stdout",
     "output_type": "stream",
     "text": [
      "SGDClassifier(alpha=0.1, average=False, class_weight=None, epsilon=0.1,\n",
      "       eta0=0.01, fit_intercept=True, l1_ratio=0.15,\n",
      "       learning_rate='optimal', loss='hinge', max_iter=4, n_iter=None,\n",
      "       n_jobs=1, penalty='l2', power_t=0.5, random_state=None,\n",
      "       shuffle=True, tol=None, verbose=0, warm_start=False)\n",
      "[-2.90512069 -2.14199995 -1.37887921 -0.61575847  0.14736228  0.91048302\n",
      "  1.67360376  2.4367245   3.19984524  3.96296598  4.72608672]\n",
      "[ 1.08355505  1.05996337  1.03637168  1.01277999  0.98918831  0.96559662\n",
      "  0.94200493  0.91841325  0.89482156  0.87122987  0.84763819]\n",
      "[ 86.53156927  68.41961113  50.30765298  32.19569483  14.08373669\n",
      "  -4.02822146 -22.14017961 -40.25213775 -58.3640959  -76.47605405\n",
      " -94.58801219]\n"
     ]
    },
    {
     "data": {
      "image/png": "[encoded data removed]",
      "text/plain": [
       "<matplotlib.figure.Figure at 0x1090cdf10>"
      ]
     },
     "metadata": {},
     "output_type": "display_data"
    }
   ],
   "source": [
    "x_min, x_max = X_train2[:,0].min() - .5, X_train2[:,0].max() + .5\n",
    "y_min, y_max = X_train2[:,1].min() - .5, X_train2[:,1].max() + .5\n",
    "xs = np.arange(x_min, x_max, 0.5)\n",
    "fig, axes = plt.subplots(1,3)\n",
    "\n",
    "clf = SGDClassifier(alpha=0.1, n_iter=4, loss=\"hinge\", penalty=\"l2\", eta0=0.01)\n",
    "\n",
    "clf.fit(X_train2, y_train)\n",
    "\n",
    "print clf\n",
    "\n",
    "for i in [0, 1, 2]:\n",
    "    axes[i].set_title('Class'+ str(i) + ' versus the rest')\n",
    "    axes[i].set_xlabel('Sepal length')\n",
    "    axes[i].set_ylabel('Sepal width')\n",
    "    axes[i].set_aspect('equal')\n",
    "    axes[i].set_xlim(x_min, x_max)\n",
    "    axes[i].set_ylim(y_min, y_max)\n",
    "    plt.sca(axes[i])\n",
    "    #ytrain= np.ones(y_train.shape)\n",
    "    #ytrain[y_train==i] = 0\n",
    "    #ytrain[y_train==i] = 1\n",
    "    #print ytrain, y_train\n",
    "    plt.scatter(X_train2[:,0], X_train2[:,1], c=y_train, cmap = plt.cm.prism)\n",
    "    #clf.fit(X_train, y_train)\n",
    "    ys = (-clf.intercept_[i] - xs * clf.coef_[i,0] / clf.coef_[i,1])\n",
    "    plt.plot(xs,ys,hold=True)\n",
    "    #print clf\n",
    "    #print xs\n",
    "    print ys\n",
    "    \n",
    "plt.show()"
   ]
  },
  {
   "cell_type": "code",
   "execution_count": 14,
   "metadata": {},
   "outputs": [
    {
     "name": "stdout",
     "output_type": "stream",
     "text": [
      "Hyperplans :  [[-1.18203676  0.7664097 ]\n",
      " [ 0.04486682 -0.56212442]\n",
      " [ 0.99352196 -0.04053414]]\n",
      "Biais :  [-0.63759467 -0.95187235 -0.63346779]\n"
     ]
    }
   ],
   "source": [
    "clf.fit(X_train2, y_train)\n",
    "print \"Hyperplans : \", clf.coef_\n",
    "print \"Biais : \",  clf.intercept_"
   ]
  },
  {
   "cell_type": "code",
   "execution_count": 15,
   "metadata": {},
   "outputs": [
    {
     "data": {
      "image/png": "[encoded data removed]",
      "text/plain": [
       "<matplotlib.figure.Figure at 0x1093e3fd0>"
      ]
     },
     "metadata": {},
     "output_type": "display_data"
    }
   ],
   "source": [
    "h = .02  # step size in the mesh\n",
    "colors = \"bry\"\n",
    "\n",
    "x_min, x_max = X_train2[:, 0].min() - 1, X_train2[:, 0].max() + 1\n",
    "y_min, y_max = X_train2[:, 1].min() - 1, X_train2[:, 1].max() + 1\n",
    "xx, yy = np.meshgrid(np.arange(x_min, x_max, h), np.arange(y_min, y_max, h))\n",
    "\n",
    "# Plot the decision boundary. For that, we will assign a color to each\n",
    "# point in the mesh [x_min, m_max]x[y_min, y_max].\n",
    "Z = clf.predict(np.c_[xx.ravel(), yy.ravel()])   # np.c_ = concaténation de deux matrices\n",
    "# Put the result into a color plot\n",
    "Z = Z.reshape(xx.shape)\n",
    "cs = plt.contourf(xx, yy, Z, cmap=plt.cm.Paired)\n",
    "plt.axis('tight')\n",
    "\n",
    "# Plot also the training points\n",
    "for i, color in zip(clf.classes_, colors):\n",
    "    idx = np.where(y_train == i)\n",
    "    plt.scatter(X_train2[idx, 0], X_train2[idx, 1], c=color, label=iris.target_names[i], cmap=plt.cm.Paired)\n",
    "plt.title(\"Decision surface of multi-class SGD\")\n",
    "plt.axis('tight')\n",
    "plt.show()"
   ]
  },
  {
   "cell_type": "markdown",
   "metadata": {},
   "source": [
    "# Calcul de performances"
   ]
  },
  {
   "cell_type": "code",
   "execution_count": 16,
   "metadata": {},
   "outputs": [
    {
     "name": "stdout",
     "output_type": "stream",
     "text": [
      "0.755555555556\n",
      "0.8\n"
     ]
    }
   ],
   "source": [
    "from sklearn import metrics\n",
    "clf.fit(X_train2,y_train)\n",
    "print clf.score(X_train2, y_train)\n",
    "print clf.score(X_test2, y_test)\n"
   ]
  },
  {
   "cell_type": "markdown",
   "metadata": {},
   "source": [
    "# Validation croisée\n",
    "\n",
    "La validation croisée permet d'avoir une meilleure estimation de la performance en génaralisation et de la variance de l'estimateur.\n"
   ]
  },
  {
   "cell_type": "code",
   "execution_count": 17,
   "metadata": {},
   "outputs": [
    {
     "name": "stdout",
     "output_type": "stream",
     "text": [
      "Train: [2 3 4 5] | test: [0 1]\n",
      "Train: [0 1 4 5] | test: [2 3]\n",
      "Train: [0 1 2 3] | test: [4 5]\n"
     ]
    }
   ],
   "source": [
    "from sklearn import cross_validation\n",
    "\n",
    "k_fold = cross_validation.KFold(n=6, n_folds=3) # indices=True)\n",
    "\n",
    "\n",
    "for train_indices, test_indices in k_fold:\n",
    "    print 'Train: %s | test: %s' % (train_indices, test_indices)"
   ]
  },
  {
   "cell_type": "markdown",
   "metadata": {},
   "source": [
    "### On calcule la performance sur les K plis en généralisation sur XTrain2 (Données réduites à 2 composantes)"
   ]
  },
  {
   "cell_type": "code",
   "execution_count": 27,
   "metadata": {},
   "outputs": [
    {
     "data": {
      "text/plain": [
       "[0.77777777777777779,\n",
       " 0.77777777777777779,\n",
       " 0.70370370370370372,\n",
       " 0.70370370370370372,\n",
       " 0.77777777777777779]"
      ]
     },
     "execution_count": 27,
     "metadata": {},
     "output_type": "execute_result"
    }
   ],
   "source": [
    "kfold = cross_validation.KFold(len(X_train2), n_folds=5)\n",
    "[clf.fit(X_train2[i_train], y_train[i_train]).score(X_train2[i_test], y_train[i_test]) for i_train, i_test in kfold]"
   ]
  },
  {
   "cell_type": "markdown",
   "metadata": {},
   "source": [
    "### On calcule la performance sur les K plis en généralisation sur XTrain (expliquez la différence de performance)"
   ]
  },
  {
   "cell_type": "code",
   "execution_count": 28,
   "metadata": {},
   "outputs": [
    {
     "data": {
      "text/plain": [
       "[0.92592592592592593,\n",
       " 0.88888888888888884,\n",
       " 0.77777777777777779,\n",
       " 0.77777777777777779,\n",
       " 0.85185185185185186]"
      ]
     },
     "execution_count": 28,
     "metadata": {},
     "output_type": "execute_result"
    }
   ],
   "source": [
    "kfold = cross_validation.KFold(len(X_train), n_folds=5)\n",
    "[clf.fit(X_train[i_train], y_train[i_train]).score(X_train[i_test], y_train[i_test]) for i_train, i_test in kfold]"
   ]
  },
  {
   "cell_type": "markdown",
   "metadata": {},
   "source": [
    "### Idem sur l'ensemble des données "
   ]
  },
  {
   "cell_type": "code",
   "execution_count": 29,
   "metadata": {},
   "outputs": [
    {
     "data": {
      "text/plain": [
       "[1.0, 0.80000000000000004, 0.0, 0.80000000000000004, 0.13333333333333333]"
      ]
     },
     "execution_count": 29,
     "metadata": {},
     "output_type": "execute_result"
    }
   ],
   "source": [
    "kfold = cross_validation.KFold(len(X_scaled), n_folds=5)\n",
    "[clf.fit(X_scaled[i_train], y[i_train]).score(X_scaled[i_test], y[i_test]) for i_train, i_test in kfold]"
   ]
  },
  {
   "cell_type": "markdown",
   "metadata": {},
   "source": [
    "# Grid search pour la sélection de modèles\n",
    "\n",
    "Certains paramètres ne peuvent être appris automatiquement:\n",
    "- Les modèles sont définis par de nombreux paramètres dont certains, mais pas tous, sont apprenables automatiquement. \n",
    "- Les algorithmes d'optimisation requièrenet le plus souvent de fixer a priori des hyper-paramètres qui conditionnent leur comportement. \n",
    "\n",
    "Pour ces paramètres une possibilité est de tester plusieurs valeurs possibles par une exploration exhaustive (GridSearch) et de choisir les meilleurs. \n",
    "\n",
    "Voir http://scikit-learn.org/stable/modules/grid_search.html"
   ]
  },
  {
   "cell_type": "code",
   "execution_count": 31,
   "metadata": {},
   "outputs": [
    {
     "name": "stdout",
     "output_type": "stream",
     "text": [
      "[mean: 0.98000, std: 0.01602, params: {'kernel': 'linear', 'C': 1}, mean: 0.97333, std: 0.00897, params: {'kernel': 'rbf', 'C': 1}, mean: 0.97333, std: 0.03697, params: {'kernel': 'linear', 'C': 10}, mean: 0.98000, std: 0.01601, params: {'kernel': 'rbf', 'C': 10}]\n"
     ]
    }
   ],
   "source": [
    "from sklearn import svm, grid_search, datasets\n",
    "iris = datasets.load_iris()\n",
    "parameters = {'kernel':('linear', 'rbf'), 'C':[1, 10]}\n",
    "svr = svm.SVC()\n",
    "clf = grid_search.GridSearchCV(svr, parameters)\n",
    "clf.fit(iris.data, iris.target)\n",
    "print clf.grid_scores_"
   ]
  },
  {
   "cell_type": "code",
   "execution_count": 33,
   "metadata": {},
   "outputs": [
    {
     "name": "stdout",
     "output_type": "stream",
     "text": [
      "[mean: 0.92000, std: 0.06532, params: {'alpha': 0.001, 'eta0': 0.1, 'n_iter': 2}, mean: 0.90000, std: 0.10000, params: {'alpha': 0.001, 'eta0': 0.1, 'n_iter': 5}, mean: 0.87333, std: 0.06289, params: {'alpha': 0.001, 'eta0': 0.1, 'n_iter': 10}, mean: 0.92000, std: 0.07180, params: {'alpha': 0.001, 'eta0': 0.1, 'n_iter': 10}, mean: 0.89333, std: 0.09043, params: {'alpha': 0.001, 'eta0': 0.1, 'n_iter': 100}, mean: 0.90667, std: 0.06799, params: {'alpha': 0.001, 'eta0': 0.05, 'n_iter': 2}, mean: 0.86667, std: 0.05963, params: {'alpha': 0.001, 'eta0': 0.05, 'n_iter': 5}, mean: 0.94000, std: 0.06960, params: {'alpha': 0.001, 'eta0': 0.05, 'n_iter': 10}, mean: 0.91333, std: 0.08459, params: {'alpha': 0.001, 'eta0': 0.05, 'n_iter': 10}, mean: 0.91333, std: 0.08969, params: {'alpha': 0.001, 'eta0': 0.05, 'n_iter': 100}, mean: 0.93333, std: 0.06667, params: {'alpha': 0.001, 'eta0': 0.01, 'n_iter': 2}, mean: 0.91333, std: 0.07333, params: {'alpha': 0.001, 'eta0': 0.01, 'n_iter': 5}, mean: 0.94667, std: 0.02667, params: {'alpha': 0.001, 'eta0': 0.01, 'n_iter': 10}, mean: 0.90000, std: 0.06146, params: {'alpha': 0.001, 'eta0': 0.01, 'n_iter': 10}, mean: 0.90667, std: 0.07424, params: {'alpha': 0.001, 'eta0': 0.01, 'n_iter': 100}, mean: 0.92667, std: 0.06960, params: {'alpha': 0.001, 'eta0': 0.005, 'n_iter': 2}, mean: 0.92000, std: 0.04989, params: {'alpha': 0.001, 'eta0': 0.005, 'n_iter': 5}, mean: 0.91333, std: 0.06000, params: {'alpha': 0.001, 'eta0': 0.005, 'n_iter': 10}, mean: 0.92667, std: 0.04667, params: {'alpha': 0.001, 'eta0': 0.005, 'n_iter': 10}, mean: 0.92667, std: 0.06289, params: {'alpha': 0.001, 'eta0': 0.005, 'n_iter': 100}, mean: 0.92667, std: 0.06289, params: {'alpha': 0.01, 'eta0': 0.1, 'n_iter': 2}, mean: 0.92667, std: 0.06289, params: {'alpha': 0.01, 'eta0': 0.1, 'n_iter': 5}, mean: 0.91333, std: 0.08459, params: {'alpha': 0.01, 'eta0': 0.1, 'n_iter': 10}, mean: 0.89333, std: 0.09043, params: {'alpha': 0.01, 'eta0': 0.1, 'n_iter': 10}, mean: 0.92667, std: 0.07572, params: {'alpha': 0.01, 'eta0': 0.1, 'n_iter': 100}, mean: 0.93333, std: 0.05963, params: {'alpha': 0.01, 'eta0': 0.05, 'n_iter': 2}, mean: 0.90667, std: 0.05333, params: {'alpha': 0.01, 'eta0': 0.05, 'n_iter': 5}, mean: 0.90000, std: 0.06831, params: {'alpha': 0.01, 'eta0': 0.05, 'n_iter': 10}, mean: 0.90667, std: 0.07424, params: {'alpha': 0.01, 'eta0': 0.05, 'n_iter': 10}, mean: 0.93333, std: 0.05164, params: {'alpha': 0.01, 'eta0': 0.05, 'n_iter': 100}, mean: 0.90000, std: 0.08028, params: {'alpha': 0.01, 'eta0': 0.01, 'n_iter': 2}, mean: 0.94000, std: 0.06289, params: {'alpha': 0.01, 'eta0': 0.01, 'n_iter': 5}, mean: 0.88000, std: 0.06532, params: {'alpha': 0.01, 'eta0': 0.01, 'n_iter': 10}, mean: 0.92000, std: 0.07180, params: {'alpha': 0.01, 'eta0': 0.01, 'n_iter': 10}, mean: 0.92000, std: 0.06532, params: {'alpha': 0.01, 'eta0': 0.01, 'n_iter': 100}, mean: 0.92667, std: 0.05538, params: {'alpha': 0.01, 'eta0': 0.005, 'n_iter': 2}, mean: 0.91333, std: 0.08969, params: {'alpha': 0.01, 'eta0': 0.005, 'n_iter': 5}, mean: 0.90667, std: 0.06799, params: {'alpha': 0.01, 'eta0': 0.005, 'n_iter': 10}, mean: 0.93333, std: 0.05164, params: {'alpha': 0.01, 'eta0': 0.005, 'n_iter': 10}, mean: 0.92000, std: 0.07180, params: {'alpha': 0.01, 'eta0': 0.005, 'n_iter': 100}, mean: 0.88667, std: 0.08969, params: {'alpha': 0.1, 'eta0': 0.1, 'n_iter': 2}, mean: 0.88000, std: 0.08327, params: {'alpha': 0.1, 'eta0': 0.1, 'n_iter': 5}, mean: 0.86000, std: 0.09165, params: {'alpha': 0.1, 'eta0': 0.1, 'n_iter': 10}, mean: 0.86000, std: 0.09165, params: {'alpha': 0.1, 'eta0': 0.1, 'n_iter': 10}, mean: 0.86000, std: 0.07572, params: {'alpha': 0.1, 'eta0': 0.1, 'n_iter': 100}, mean: 0.85333, std: 0.08327, params: {'alpha': 0.1, 'eta0': 0.05, 'n_iter': 2}, mean: 0.86000, std: 0.09165, params: {'alpha': 0.1, 'eta0': 0.05, 'n_iter': 5}, mean: 0.86667, std: 0.08944, params: {'alpha': 0.1, 'eta0': 0.05, 'n_iter': 10}, mean: 0.86667, std: 0.09428, params: {'alpha': 0.1, 'eta0': 0.05, 'n_iter': 10}, mean: 0.84667, std: 0.07916, params: {'alpha': 0.1, 'eta0': 0.05, 'n_iter': 100}, mean: 0.90000, std: 0.06831, params: {'alpha': 0.1, 'eta0': 0.01, 'n_iter': 2}, mean: 0.86667, std: 0.08433, params: {'alpha': 0.1, 'eta0': 0.01, 'n_iter': 5}, mean: 0.86667, std: 0.09428, params: {'alpha': 0.1, 'eta0': 0.01, 'n_iter': 10}, mean: 0.88000, std: 0.07775, params: {'alpha': 0.1, 'eta0': 0.01, 'n_iter': 10}, mean: 0.86000, std: 0.09165, params: {'alpha': 0.1, 'eta0': 0.01, 'n_iter': 100}, mean: 0.88000, std: 0.08327, params: {'alpha': 0.1, 'eta0': 0.005, 'n_iter': 2}, mean: 0.86667, std: 0.08433, params: {'alpha': 0.1, 'eta0': 0.005, 'n_iter': 5}, mean: 0.88000, std: 0.08327, params: {'alpha': 0.1, 'eta0': 0.005, 'n_iter': 10}, mean: 0.86000, std: 0.06960, params: {'alpha': 0.1, 'eta0': 0.005, 'n_iter': 10}, mean: 0.86667, std: 0.09428, params: {'alpha': 0.1, 'eta0': 0.005, 'n_iter': 100}, mean: 0.71333, std: 0.06700, params: {'alpha': 1, 'eta0': 0.1, 'n_iter': 2}, mean: 0.69333, std: 0.07424, params: {'alpha': 1, 'eta0': 0.1, 'n_iter': 5}, mean: 0.69333, std: 0.04422, params: {'alpha': 1, 'eta0': 0.1, 'n_iter': 10}, mean: 0.68000, std: 0.04000, params: {'alpha': 1, 'eta0': 0.1, 'n_iter': 10}, mean: 0.72667, std: 0.06960, params: {'alpha': 1, 'eta0': 0.1, 'n_iter': 100}, mean: 0.71333, std: 0.07333, params: {'alpha': 1, 'eta0': 0.05, 'n_iter': 2}, mean: 0.71333, std: 0.05207, params: {'alpha': 1, 'eta0': 0.05, 'n_iter': 5}, mean: 0.71333, std: 0.05207, params: {'alpha': 1, 'eta0': 0.05, 'n_iter': 10}, mean: 0.71333, std: 0.08459, params: {'alpha': 1, 'eta0': 0.05, 'n_iter': 10}, mean: 0.70667, std: 0.04422, params: {'alpha': 1, 'eta0': 0.05, 'n_iter': 100}, mean: 0.67333, std: 0.03590, params: {'alpha': 1, 'eta0': 0.01, 'n_iter': 2}, mean: 0.70667, std: 0.06799, params: {'alpha': 1, 'eta0': 0.01, 'n_iter': 5}, mean: 0.68667, std: 0.06000, params: {'alpha': 1, 'eta0': 0.01, 'n_iter': 10}, mean: 0.68000, std: 0.04000, params: {'alpha': 1, 'eta0': 0.01, 'n_iter': 10}, mean: 0.70000, std: 0.05375, params: {'alpha': 1, 'eta0': 0.01, 'n_iter': 100}, mean: 0.69333, std: 0.03266, params: {'alpha': 1, 'eta0': 0.005, 'n_iter': 2}, mean: 0.71333, std: 0.08459, params: {'alpha': 1, 'eta0': 0.005, 'n_iter': 5}, mean: 0.70000, std: 0.04472, params: {'alpha': 1, 'eta0': 0.005, 'n_iter': 10}, mean: 0.70667, std: 0.09043, params: {'alpha': 1, 'eta0': 0.005, 'n_iter': 10}, mean: 0.71333, std: 0.06700, params: {'alpha': 1, 'eta0': 0.005, 'n_iter': 100}]\n",
      "0.946666666667\n",
      "{'alpha': 0.001, 'eta0': 0.01, 'n_iter': 10}\n",
      "SGDClassifier(alpha=0.001, average=False, class_weight=None, epsilon=0.1,\n",
      "       eta0=0.01, fit_intercept=True, l1_ratio=0.15,\n",
      "       learning_rate='optimal', loss='hinge', max_iter=5, n_iter=10,\n",
      "       n_jobs=1, penalty='l2', power_t=0.5, random_state=None,\n",
      "       shuffle=True, tol=None, verbose=0, warm_start=False)\n"
     ]
    }
   ],
   "source": [
    "from sklearn import grid_search, datasets\n",
    "from sklearn.linear_model import SGDClassifier\n",
    "\n",
    "parameters = {'alpha':[0.001, 0.01, 0.1, 1],'eta0':[0.1, 0.05, 0.01, 0.005], 'n_iter':[2, 5, 10, 10, 100]}\n",
    "sgdc = SGDClassifier()\n",
    "clf = grid_search.GridSearchCV(sgdc, parameters, cv=10)\n",
    "clf.fit(X_scaled, y)\n",
    "\n",
    "\n",
    "print clf.grid_scores_\n",
    "print clf.best_score_\n",
    "print clf.best_params_\n",
    "print clf.best_estimator_\n",
    "\n"
   ]
  },
  {
   "cell_type": "markdown",
   "metadata": {},
   "source": [
    "### Utilisation de Pipeline\n",
    "Pipeline permet de réaliser une chaine de traitement: normalisation, classification / régression, etc."
   ]
  },
  {
   "cell_type": "code",
   "execution_count": 34,
   "metadata": {},
   "outputs": [
    {
     "name": "stdout",
     "output_type": "stream",
     "text": [
      "(135, 2) (15, 2)\n",
      "0.792592592593\n",
      "0.8\n"
     ]
    }
   ],
   "source": [
    "from sklearn import svm\n",
    "from sklearn import preprocessing\n",
    "from sklearn.linear_model import SGDClassifier\n",
    "from sklearn.pipeline import Pipeline\n",
    "\n",
    "X2 = X\n",
    "X_tr, X_te, y_tr, y_te = train_test_split(X2,y,test_size=0.1, random_state = 1)\n",
    "X_tr2 = X_tr[:,:2]\n",
    "X_te2 = X_te[:,:2]\n",
    "print X_tr2.shape, X_te2.shape\n",
    "\n",
    "\n",
    "clf = svm.SVC(kernel='linear')\n",
    "pipe = Pipeline([('norm', preprocessing.StandardScaler()), ('svm', clf)])\n",
    "\n",
    "pipe.set_params(svm__C=.1).fit(X_tr2, y_tr)\n",
    "prediction_tr = pipe.predict(X_tr2)\n",
    "prediction_te = pipe.predict(X_te2)\n",
    "\n",
    "print(pipe.score(X_tr2, y_tr))\n",
    "print(pipe.score(X_te2, y_te))\n",
    "\n"
   ]
  },
  {
   "cell_type": "code",
   "execution_count": null,
   "metadata": {
    "collapsed": true,
    "jupyter": {
     "outputs_hidden": true
    }
   },
   "outputs": [],
   "source": []
  }
 ],
 "metadata": {
  "kernelspec": {
   "display_name": "Python 3",
   "language": "python",
   "name": "python3"
  },
  "language_info": {
   "codemirror_mode": {
    "name": "ipython",
    "version": 3
   },
   "file_extension": ".py",
   "mimetype": "text/x-python",
   "name": "python",
   "nbconvert_exporter": "python",
   "pygments_lexer": "ipython3",
   "version": "3.7.3"
  }
 },
 "nbformat": 4,
 "nbformat_minor": 4
}
