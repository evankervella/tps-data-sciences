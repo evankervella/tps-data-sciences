{
 "cells": [
  {
   "cell_type": "markdown",
   "metadata": {},
   "source": [
    "# Credit to Dongwoo Kim\n",
    "\n",
    "https://github.com/arongdari/python-topic-model/"
   ]
  },
  {
   "cell_type": "markdown",
   "metadata": {},
   "source": [
    "\n",
    "\n",
    "\n",
    "# Exemple of AuthorTopicModel "
   ]
  },
  {
   "cell_type": "markdown",
   "metadata": {},
   "source": [
    "\"The Author-Topic Model for Authors and Documents\" by Rosen-Zvi, et al. (UAI 2004)"
   ]
  },
  {
   "cell_type": "code",
   "execution_count": 3,
   "metadata": {},
   "outputs": [
    {
     "ename": "ImportError",
     "evalue": "No module named ptm",
     "output_type": "error",
     "traceback": [
      "\u001b[0;31m---------------------------------------------------------------------------\u001b[0m",
      "\u001b[0;31mImportError\u001b[0m                               Traceback (most recent call last)",
      "\u001b[0;32m<ipython-input-3-0fe22fa9dafd>\u001b[0m in \u001b[0;36m<module>\u001b[0;34m()\u001b[0m\n\u001b[1;32m      9\u001b[0m \u001b[0;32mimport\u001b[0m \u001b[0mmatplotlib\u001b[0m\u001b[0;34m.\u001b[0m\u001b[0mpyplot\u001b[0m \u001b[0;32mas\u001b[0m \u001b[0mplt\u001b[0m\u001b[0;34m\u001b[0m\u001b[0m\n\u001b[1;32m     10\u001b[0m \u001b[0;34m\u001b[0m\u001b[0m\n\u001b[0;32m---> 11\u001b[0;31m \u001b[0;32mfrom\u001b[0m \u001b[0mptm\u001b[0m \u001b[0;32mimport\u001b[0m \u001b[0mAuthorTopicModel\u001b[0m\u001b[0;31m##\u001b[0m\u001b[0;34m\u001b[0m\u001b[0m\n\u001b[0m\u001b[1;32m     12\u001b[0m \u001b[0;32mfrom\u001b[0m \u001b[0mptm\u001b[0m\u001b[0;34m.\u001b[0m\u001b[0mutils\u001b[0m \u001b[0;32mimport\u001b[0m \u001b[0mconvert_cnt_to_list\u001b[0m\u001b[0;34m,\u001b[0m \u001b[0mget_top_words\u001b[0m\u001b[0;31m##\u001b[0m\u001b[0;34m\u001b[0m\u001b[0m\n\u001b[1;32m     13\u001b[0m \u001b[0;34m\u001b[0m\u001b[0m\n",
      "\u001b[0;31mImportError\u001b[0m: No module named ptm"
     ]
    }
   ],
   "source": [
    "import pickle\n",
    "import logging\n",
    "\n",
    "import time\n",
    "import math\n",
    "\n",
    "import numpy as np\n",
    "import matplotlib\n",
    "import matplotlib.pyplot as plt\n",
    "\n",
    "from ptm import AuthorTopicModel##\n",
    "from ptm.utils import convert_cnt_to_list, get_top_words##\n",
    "\n",
    "logger = logging.getLogger('AuthorTopicModel')\n",
    "logger.propagate=False\n",
    "\n",
    "%matplotlib inline"
   ]
  },
  {
   "cell_type": "markdown",
   "metadata": {},
   "source": [
    "## Dataset CORA"
   ]
  },
  {
   "cell_type": "markdown",
   "metadata": {},
   "source": [
    "Dataset originel disponible à : https://people.cs.umass.edu/~mccallum/data.html"
   ]
  },
  {
   "cell_type": "code",
   "execution_count": 2,
   "metadata": {
    "collapsed": true,
    "jupyter": {
     "outputs_hidden": true
    }
   },
   "outputs": [],
   "source": [
    "doc_ids = pickle.load(open('/users/usrlocal/artieres/data/cora/doc_ids.pkl', 'rb'))\n",
    "doc_cnt = pickle.load(open('/users/usrlocal/artieres/data/cora/doc_cnt.pkl', 'rb'))\n",
    "doc_author = pickle.load(open('/users/usrlocal/artieres/data/cora/doc_authorid.pkl', 'rb'))\n",
    "author_name = pickle.load(open('/users/usrlocal/artieres/data/cora/authorid_authorname.pkl', 'rb'))\n",
    "voca = pickle.load(open('/users/usrlocal/artieres/data/cora/voca.pkl', 'rb'))\n",
    "\n"
   ]
  },
  {
   "cell_type": "markdown",
   "metadata": {},
   "source": [
    "### Contenu des structures de données\n",
    "- voca : \n",
    "C'est une liste des mots du vocabulaire de l'ensemble des documents. Les autres structures de données font référence aux indices des ots dans cette liste. \n",
    "- author_name : \n",
    "C'est une liste des auteurs de l'ensemble des documents. Les autres structures de données font référence aux indices des auteurs dans cette liste. \n",
    "- doc_author : \n",
    "C'est une liste de listes (une par document). La liste d'un document contient les indices des auteurs du document \n",
    "- doc_ids : \n",
    "C'est une liste de listes (une par document). La liste d'un document contient les indices des mots apparaissant dans le document \n",
    "- doc_cnt :\n",
    "C'est une liste de listes (une par document). La liste d'un document contient le nombre de fois qu'apparait chaque mot du document tel que spédicifié dans la liste correspondante dans doc_ids \n"
   ]
  },
  {
   "cell_type": "code",
   "execution_count": 3,
   "metadata": {},
   "outputs": [
    {
     "name": "stdout",
     "output_type": "stream",
     "text": [
      "13147\n",
      "13147\n",
      "13147\n",
      "24486\n",
      "17059\n",
      "88\n",
      "[13910, 4518, 10249, 16914, 4627, 15383, 15903, 8736, 10786, 14970, 551, 7720, 2613, 1033, 15419, 5692, 3645, 10816, 14913, 10819, 16452, 12872, 14412, 16982, 2135, 5307, 13414, 9845, 17014, 5753, 7290, 4226, 7815, 7826, 10388, 13978, 11419, 9887, 8870, 1710, 2226, 6329, 2235, 10432, 14542, 6362, 16091, 16092, 6778, 9467, 5379, 9990, 3335, 16137, 7441, 3352, 16666, 15132, 7453, 11553, 14630, 647, 2348, 15166, 15684, 8518, 14667, 11622, 3434, 1389, 16756, 13689, 2440, 13713, 12189, 9638, 13234, 6072, 7839, 15811, 7625, 13771, 2519, 4058, 10715, 4579, 4069, 7167]\n",
      "[1, 1, 1, 1, 2, 1, 1, 1, 1, 7, 1, 1, 1, 1, 1, 4, 1, 1, 3, 1, 1, 3, 3, 1, 1, 2, 1, 1, 1, 1, 1, 3, 1, 2, 3, 1, 2, 1, 4, 1, 3, 1, 2, 1, 1, 3, 1, 1, 2, 2, 1, 1, 1, 1, 1, 1, 1, 1, 1, 1, 2, 2, 2, 1, 3, 1, 9, 1, 1, 1, 1, 1, 1, 1, 3, 1, 1, 1, 1, 1, 1, 1, 3, 1, 2, 1, 9, 1]\n",
      "[1174, 18535, 9596]\n",
      "homomorphism\n",
      "R Bello\n"
     ]
    }
   ],
   "source": [
    "print len(doc_ids)\n",
    "print len(doc_cnt)\n",
    "print len(doc_author)\n",
    "print len(author_name)\n",
    "print len(voca)\n",
    "print len(doc_ids[1])\n",
    "print doc_ids[1]\n",
    "print doc_cnt[1]\n",
    "print doc_author[1]\n",
    "print voca[1]\n",
    "print author_name[1]\n"
   ]
  },
  {
   "cell_type": "code",
   "execution_count": 4,
   "metadata": {},
   "outputs": [
    {
     "name": "stdout",
     "output_type": "stream",
     "text": [
      "13147\n",
      "24486\n",
      "17059\n"
     ]
    }
   ],
   "source": [
    "corpus = convert_cnt_to_list(doc_ids, doc_cnt)\n",
    "n_doc = len(corpus)\n",
    "n_author = len(author_name)\n",
    "n_voca = len(voca)\n",
    "\n",
    "print n_doc\n",
    "print n_author\n",
    "print n_voca"
   ]
  },
  {
   "cell_type": "markdown",
   "metadata": {},
   "source": [
    "La fonction convert_cnt_to_list crée une structure de type liste de listes (une par document). La  liste d'un document contient l'ensemble des mots (des indices de mots) du document, éventuellement avec répétitions. "
   ]
  },
  {
   "cell_type": "code",
   "execution_count": 5,
   "metadata": {},
   "outputs": [
    {
     "name": "stdout",
     "output_type": "stream",
     "text": [
      "[13910, 4518, 10249, 16914, 4627, 4627, 15383, 15903, 8736, 10786, 14970, 14970, 14970, 14970, 14970, 14970, 14970, 551, 7720, 2613, 1033, 15419, 5692, 5692, 5692, 5692, 3645, 10816, 14913, 14913, 14913, 10819, 16452, 12872, 12872, 12872, 14412, 14412, 14412, 16982, 2135, 5307, 5307, 13414, 9845, 17014, 5753, 7290, 4226, 4226, 4226, 7815, 7826, 7826, 10388, 10388, 10388, 13978, 11419, 11419, 9887, 8870, 8870, 8870, 8870, 1710, 2226, 2226, 2226, 6329, 2235, 2235, 10432, 14542, 6362, 6362, 6362, 16091, 16092, 6778, 6778, 9467, 9467, 5379, 9990, 3335, 16137, 7441, 3352, 16666, 15132, 7453, 11553, 14630, 14630, 647, 647, 2348, 2348, 15166, 15684, 15684, 15684, 8518, 14667, 14667, 14667, 14667, 14667, 14667, 14667, 14667, 14667, 11622, 3434, 1389, 16756, 13689, 2440, 13713, 12189, 12189, 12189, 9638, 13234, 6072, 7839, 15811, 7625, 13771, 2519, 2519, 2519, 4058, 10715, 10715, 4579, 4069, 4069, 4069, 4069, 4069, 4069, 4069, 4069, 4069, 7167]\n",
      "147\n"
     ]
    }
   ],
   "source": [
    "print corpus[1]\n",
    "print np.sum(doc_cnt[1])"
   ]
  },
  {
   "cell_type": "markdown",
   "metadata": {},
   "source": [
    "## K-means et tf-idf"
   ]
  },
  {
   "cell_type": "markdown",
   "metadata": {},
   "source": [
    "- creer une fonction qui transforme ces représenations sous la forme TF-IDF (term frequency–inverse document frequency)\n",
    "- coder la fonction Kmeans qui prend en entrée des descripteurs tf-idf de documents et fait le clustering"
   ]
  },
  {
   "cell_type": "markdown",
   "metadata": {},
   "source": [
    "\n",
    "def tf_idf_transform(X):\n",
    "\n",
    "\"\"\"\n",
    "    Code tf-idf transform from a set of sample X\n",
    "    \n",
    "    Step 1 - Compute idf for each word of the vocabulary over the entire set.\n",
    "    Step 2 - Compute tf for each sample\n",
    "    Step 3 - Compute tf times idf to build transformed sample descriptors\n",
    "\"\"\"\n",
    "\n",
    "\n",
    "\n",
    "def k_means(X, n_clusters, max_iter=300):\n",
    "\n",
    "\"\"\"\n",
    "    Code K-means clustering using tf-idf descriptors.\n",
    "    \n",
    "    Step 1 - Pick K random points as cluster centers called centroids.\n",
    "    Step 2 - Assign each Xi to nearest cluster by calculating its distance to each centroid (distance will be computed by l2-normalizing descriptors followed by dot product to obtain cosine similarity).\n",
    "    Step 3 - Find new cluster center by taking the average of the assigned points.\n",
    "    Step 4 - Repeat Step 2 and 3 until none of the cluster assignments change.\n",
    "\"\"\"\n"
   ]
  },
  {
   "cell_type": "markdown",
   "metadata": {},
   "source": [
    "# Analyse des resultats\n",
    "\n",
    "Pour 10 clusters: \n",
    "  - afficher les mots les plus fréquents et discriminants (maximums des descripteurs)\n",
    "  - afficher la population de chaque cluster\n",
    "  - calculer une matrice de similarité entre les différents clusters\n"
   ]
  },
  {
   "cell_type": "markdown",
   "metadata": {},
   "source": [
    "## K-means et bag-of-words"
   ]
  },
  {
   "cell_type": "markdown",
   "metadata": {},
   "source": [
    "- créer une représentation bag-of-words à partir des descripteurs initiaux\n",
    "- utiliser sklearn.cluster.KMeans pour faire le k-means\n",
    "- observer les résultats: mots les plus fréquents dans les clusters\n",
    "\n",
    "- refaire les clustering après normalisation l2 des descripteurs\n",
    "- observer encore les résultats"
   ]
  },
  {
   "cell_type": "markdown",
   "metadata": {},
   "source": [
    "## LDA"
   ]
  },
  {
   "cell_type": "raw",
   "metadata": {},
   "source": [
    "import sys\n",
    "sys.path.append(\"/users/usrlocal/artieres/\") \n",
    "#sys.path.append(\"/users/usrlocal/artieres/Cours/Data\\ Science/Code/\")\n",
    "\n",
    "import LatentVariableModels\n",
    " "
   ]
  },
  {
   "cell_type": "code",
   "execution_count": 6,
   "metadata": {},
   "outputs": [
    {
     "name": "stderr",
     "output_type": "stream",
     "text": [
      "2017-11-27 11:58:46 INFO:GibbsLDA:[ITER] 0,\telapsed time:7.46,\tlog_likelihood:-10865429.01\n",
      "2017-11-27 11:58:53 INFO:GibbsLDA:[ITER] 1,\telapsed time:7.41,\tlog_likelihood:-10535941.69\n",
      "2017-11-27 11:59:01 INFO:GibbsLDA:[ITER] 2,\telapsed time:7.37,\tlog_likelihood:-10285990.72\n"
     ]
    }
   ],
   "source": [
    "from ptm import GibbsLDA\n",
    "\n",
    "max_iter=4\n",
    "n_topic=10\n",
    "\n",
    "modelLDA = GibbsLDA(n_doc, len(voca), n_topic)\n",
    "modelLDA.fit(corpus, max_iter=max_iter)"
   ]
  },
  {
   "cell_type": "markdown",
   "metadata": {},
   "source": [
    "### Les 10 mots les plus probables pour chaque topic"
   ]
  },
  {
   "cell_type": "code",
   "execution_count": 7,
   "metadata": {},
   "outputs": [
    {
     "name": "stdout",
     "output_type": "stream",
     "text": [
      "('Topic', 0, ': ', u'system,algorithm,problem,paper,model,method,data,application,network,present')\n",
      "('Topic', 1, ': ', u'system,algorithm,paper,network,problem,data,application,model,method,result')\n",
      "('Topic', 2, ': ', u'system,algorithm,paper,application,model,problem,data,network,approach,technique')\n",
      "('Topic', 3, ': ', u'system,algorithm,paper,problem,model,performance,approach,present,application,data')\n",
      "('Topic', 4, ': ', u'system,algorithm,problem,paper,model,network,data,application,performance,present')\n",
      "('Topic', 5, ': ', u'system,algorithm,problem,paper,model,data,using,time,method,result')\n",
      "('Topic', 6, ': ', u'system,algorithm,paper,problem,model,data,application,method,present,result')\n",
      "('Topic', 7, ': ', u'system,algorithm,paper,model,data,problem,performance,approach,network,technique')\n",
      "('Topic', 8, ': ', u'system,model,performance,algorithm,problem,data,network,paper,using,result')\n",
      "('Topic', 9, ': ', u'system,algorithm,paper,network,model,problem,application,data,performance,present')\n"
     ]
    }
   ],
   "source": [
    "for ti in range(n_topic):\n",
    "    top_words = get_top_words(modelLDA.TW, voca, ti, n_words=10)\n",
    "    print('Topic', ti ,': ', ','.join(top_words))"
   ]
  },
  {
   "cell_type": "markdown",
   "metadata": {},
   "source": [
    "##  Modèle author-topic"
   ]
  },
  {
   "cell_type": "code",
   "execution_count": 8,
   "metadata": {},
   "outputs": [
    {
     "name": "stderr",
     "output_type": "stream",
     "text": [
      "2017-11-27 12:00:05 INFO:AuthorTopicModel:[INIT] 0\telapsed_time:22.93\tlog_likelihood:-10865031.28\n"
     ]
    }
   ],
   "source": [
    "max_iter=1\n",
    "n_topic=10\n",
    "\n",
    "modelAT = AuthorTopicModel(n_doc, n_voca, n_topic, n_author)\n",
    "\n",
    "modelAT.fit(corpus, doc_author, max_iter=max_iter)"
   ]
  },
  {
   "cell_type": "markdown",
   "metadata": {},
   "source": [
    "## Les 10 mots les plus probables pour chaque topic"
   ]
  },
  {
   "cell_type": "code",
   "execution_count": 9,
   "metadata": {},
   "outputs": [
    {
     "name": "stdout",
     "output_type": "stream",
     "text": [
      "('topic ', 0, u'system,algorithm,paper,model,problem,application,network,performance,data,method')\n",
      "('topic ', 1, u'system,algorithm,problem,paper,model,data,application,network,method,performance')\n",
      "('topic ', 2, u'system,algorithm,paper,problem,model,performance,data,application,using,network')\n",
      "('topic ', 3, u'system,algorithm,paper,model,problem,data,application,network,method,approach')\n",
      "('topic ', 4, u'system,algorithm,paper,problem,model,data,network,result,using,performance')\n",
      "('topic ', 5, u'system,algorithm,paper,model,problem,data,network,application,present,using')\n",
      "('topic ', 6, u'system,algorithm,problem,paper,model,network,data,performance,using,application')\n",
      "('topic ', 7, u'system,algorithm,paper,problem,model,data,application,method,using,network')\n",
      "('topic ', 8, u'system,algorithm,model,paper,problem,data,network,performance,method,application')\n",
      "('topic ', 9, u'system,algorithm,problem,paper,model,data,network,performance,method,result')\n"
     ]
    }
   ],
   "source": [
    "for k in range(n_topic):\n",
    "    top_words = get_top_words(modelAT.TW, voca, k, 10)\n",
    "    print('topic ', k , ','.join(top_words))"
   ]
  },
  {
   "cell_type": "markdown",
   "metadata": {},
   "source": [
    "## Distribution sur les topics pour un auteur particulier"
   ]
  },
  {
   "cell_type": "code",
   "execution_count": 11,
   "metadata": {},
   "outputs": [
    {
     "data": {
      "image/png": "[encoded data removed]",
      "text/plain": [
       "<matplotlib.figure.Figure at 0x7f045425ced0>"
      ]
     },
     "metadata": {},
     "output_type": "display_data"
    },
    {
     "data": {
      "text/plain": [
       "<ptm.at_model.AuthorTopicModel at 0x7f0457ccecd0>"
      ]
     },
     "execution_count": 11,
     "metadata": {},
     "output_type": "execute_result"
    }
   ],
   "source": [
    "author_id = 7\n",
    "fig = plt.figure(figsize=(12,6))\n",
    "plt.bar(range(n_topic), modelAT.AT[author_id]/np.sum(modelAT.AT[author_id]))\n",
    "plt.title(author_name[author_id])\n",
    "plt.xticks(np.arange(n_topic)+0.5, ['\\n'.join(get_top_words(modelAT.TW, voca, k, 10)) for k in range(n_topic)])\n",
    "plt.show()\n",
    "modelAT"
   ]
  },
  {
   "cell_type": "code",
   "execution_count": 12,
   "metadata": {},
   "outputs": [
    {
     "data": {
      "image/png": "[encoded data removed]",
      "text/plain": [
       "<matplotlib.figure.Figure at 0x7f045416c3d0>"
      ]
     },
     "metadata": {},
     "output_type": "display_data"
    }
   ],
   "source": [
    "author_id = 32\n",
    "fig = plt.figure(figsize=(12,6))\n",
    "plt.bar(range(n_topic), modelAT.AT[author_id]/np.sum(modelAT.AT[author_id]))\n",
    "plt.title(author_name[author_id])\n",
    "plt.xticks(np.arange(n_topic)+0.5, ['\\n'.join(get_top_words(modelAT.TW, voca, k, 10)) for k in range(n_topic)])\n",
    "plt.show()"
   ]
  },
  {
   "cell_type": "markdown",
   "metadata": {},
   "source": [
    "# Travail à faire\n",
    "\n",
    "    1. Caractériser les solutions trouvées par les méthodes proposées :\n",
    "    - Définir une mesure de similarité entre topics. \n",
    "    - Calculer le degré de similarité minimmum, maximum et moyen entre deux topics en fonction du nombre d'itérations d'apprentissage de LDA et de AuthorTopic."
   ]
  }
 ],
 "metadata": {
  "kernelspec": {
   "display_name": "Python 3",
   "language": "python",
   "name": "python3"
  },
  "language_info": {
   "codemirror_mode": {
    "name": "ipython",
    "version": 3
   },
   "file_extension": ".py",
   "mimetype": "text/x-python",
   "name": "python",
   "nbconvert_exporter": "python",
   "pygments_lexer": "ipython3",
   "version": "3.7.3"
  }
 },
 "nbformat": 4,
 "nbformat_minor": 4
}
