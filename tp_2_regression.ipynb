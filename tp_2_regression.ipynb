{
 "cells": [
  {
   "cell_type": "code",
   "execution_count": 43,
   "metadata": {},
   "outputs": [
    {
     "name": "stdout",
     "output_type": "stream",
     "text": [
      "Populating the interactive namespace from numpy and matplotlib\n"
     ]
    }
   ],
   "source": [
    "%pylab inline"
   ]
  },
  {
   "cell_type": "markdown",
   "metadata": {
    "slideshow": {
     "slide_type": "slide"
    }
   },
   "source": [
    "# Régression linéaire"
   ]
  },
  {
   "cell_type": "code",
   "execution_count": 44,
   "metadata": {
    "slideshow": {
     "slide_type": "slide"
    }
   },
   "outputs": [],
   "source": [
    "import matplotlib.pyplot as plt\n",
    "import numpy as np\n",
    "from sklearn import datasets, linear_model\n",
    "import seaborn as sns\n",
    "sns.set()\n",
    "from sklearn.model_selection import train_test_split\n",
    "from sklearn.linear_model import LinearRegression\n",
    "from sklearn.preprocessing import PolynomialFeatures\n",
    "np.random.seed(seed=None)"
   ]
  },
  {
   "cell_type": "markdown",
   "metadata": {
    "slideshow": {
     "slide_type": "notes"
    }
   },
   "source": [
    "Chargement des données\n",
    "- Les données \"diabetes\" sont décrites ici https://archive.ics.uci.edu/ml/datasets/Diabetes (voir ci-dessous)\n",
    "- Ajoutez le code nécessaire pour ne conserver que les deux premières caractéristiques des données\n",
    "- On cherchera à prédire la deuxième à partir de la première"
   ]
  },
  {
   "cell_type": "code",
   "execution_count": 46,
   "metadata": {
    "scrolled": true,
    "slideshow": {
     "slide_type": "slide"
    }
   },
   "outputs": [
    {
     "data": {
      "text/html": [
       "<iframe src=https://archive.ics.uci.edu/ml/datasets/Diabetes width=700 height=350></iframe>"
      ],
      "text/plain": [
       "<IPython.core.display.HTML object>"
      ]
     },
     "execution_count": 46,
     "metadata": {},
     "output_type": "execute_result"
    }
   ],
   "source": [
    "from IPython.display import HTML\n",
    "HTML('<iframe src=https://archive.ics.uci.edu/ml/datasets/Diabetes width=700 height=350></iframe>')"
   ]
  },
  {
   "cell_type": "code",
   "execution_count": 47,
   "metadata": {
    "slideshow": {
     "slide_type": "slide"
    }
   },
   "outputs": [
    {
     "name": "stdout",
     "output_type": "stream",
     "text": [
      "(442, 10)\n",
      "[[ 0.03807591  0.05068012  0.06169621 ... -0.00259226  0.01990842\n",
      "  -0.01764613]\n",
      " [-0.00188202 -0.04464164 -0.05147406 ... -0.03949338 -0.06832974\n",
      "  -0.09220405]\n",
      " [ 0.08529891  0.05068012  0.04445121 ... -0.00259226  0.00286377\n",
      "  -0.02593034]\n",
      " ...\n",
      " [ 0.04170844  0.05068012 -0.01590626 ... -0.01107952 -0.04687948\n",
      "   0.01549073]\n",
      " [-0.04547248 -0.04464164  0.03906215 ...  0.02655962  0.04452837\n",
      "  -0.02593034]\n",
      " [-0.04547248 -0.04464164 -0.0730303  ... -0.03949338 -0.00421986\n",
      "   0.00306441]]\n"
     ]
    }
   ],
   "source": [
    "diabetes = datasets.load_diabetes()\n",
    "print(diabetes.data.shape)\n",
    "print(diabetes.data)"
   ]
  },
  {
   "cell_type": "code",
   "execution_count": 48,
   "metadata": {},
   "outputs": [
    {
     "name": "stdout",
     "output_type": "stream",
     "text": [
      "(20, 1)\n",
      "(20,)\n",
      "(442, 1)\n",
      "(442, 1, 10)\n"
     ]
    }
   ],
   "source": [
    "diabetes_X = diabetes.data[:, np.newaxis]\n",
    "diabetes_X_temp = diabetes_X[:, :, 2]\n",
    "# Split the data into training/testing sets\n",
    "diabetes_X_test = diabetes_X_temp[-20:]\n",
    "# Split the targets into training/testing sets\n",
    "diabetes_y_test = diabetes.target[-20:]\n",
    "\n",
    "\n",
    "print(diabetes_X_test.shape)\n",
    "print(diabetes_y_test.shape)\n",
    "print(diabetes_X_temp.shape)\n",
    "print(diabetes_X.shape)"
   ]
  },
  {
   "cell_type": "code",
   "execution_count": 49,
   "metadata": {},
   "outputs": [
    {
     "data": {
      "image/png": "[encoded data removed]",
      "text/plain": [
       "<Figure size 432x288 with 1 Axes>"
      ]
     },
     "metadata": {},
     "output_type": "display_data"
    }
   ],
   "source": [
    "#Plotter les données à l'aide de plot.scatter \n",
    "plt.scatter(diabetes_X_test, diabetes_y_test, c='darkorange')\n",
    "plt.xlabel('feature')\n",
    "plt.ylabel('target')\n",
    "plt.show()"
   ]
  },
  {
   "cell_type": "markdown",
   "metadata": {},
   "source": [
    "# Apprendre un modèle de régression linéaire et plotter la solution"
   ]
  },
  {
   "cell_type": "code",
   "execution_count": 53,
   "metadata": {},
   "outputs": [
    {
     "name": "stdout",
     "output_type": "stream",
     "text": [
      "(397, 1)\n",
      "(397,)\n",
      "(45, 1)\n",
      "(45,)\n"
     ]
    }
   ],
   "source": [
    "# Construire aléatoirement un ensemble d'apprentissage de taille TrainSize = 20\n",
    "# Mettre les entrées dans diabetes_X_train et les sorties désirées dans diabetes_y_train\n",
    "diabetes_X_train, X_test, diabetes_y_train, y_test = train_test_split(diabetes_X_temp, diabetes.target, test_size=0.10)\n",
    "print(diabetes_X_train.shape)\n",
    "print(diabetes_y_train.shape)\n",
    "print(X_test.shape)\n",
    "print(y_test.shape)"
   ]
  },
  {
   "cell_type": "code",
   "execution_count": 55,
   "metadata": {},
   "outputs": [
    {
     "name": "stdout",
     "output_type": "stream",
     "text": [
      "LinearRegression(copy_X=True, fit_intercept=True, n_jobs=None, normalize=False)\n",
      "[973.92283126]\n",
      "151.6397197703474\n"
     ]
    }
   ],
   "source": [
    "# Apprendre un modèle de régression linéaire (linear_model.LinearRegression de sklearn) sur vos données \n",
    "# d'apprentissage à l'aide de la méthode fit\n",
    "reg = LinearRegression()\n",
    "reg.fit(diabetes_X_train, diabetes_y_train)\n",
    "print(reg)\n",
    "print(reg.coef_)\n",
    "print(reg.intercept_)"
   ]
  },
  {
   "cell_type": "code",
   "execution_count": 18,
   "metadata": {},
   "outputs": [
    {
     "data": {
      "image/png": "[encoded data removed]",
      "text/plain": [
       "<Figure size 432x288 with 1 Axes>"
      ]
     },
     "metadata": {},
     "output_type": "display_data"
    }
   ],
   "source": [
    "# Sur une figure afficher les points de train et la droite correpsondant à la droite de régression apprise\n",
    "\n",
    "#fig, ax = plt.subplots()\n",
    "#x_min, x_max = diabetes_X_train[:,0].min() - .5, diabetes_X_train[:,0].max() + .5\n",
    "#y_min, y_max = diabetes_X_train[:,1].min() - .5, diabetes_X_train[:,1].max() + .5\n",
    "#xs = np.arange(x_min, x_max, 0.5)\n",
    "#plt.scatter(diabetes_X_train[0], diabetes_X_train[1], c=diabetes_y_train, cmap = plt.cm.prism)\n",
    "#ys = (x * reg.coef_ + reg.intercept_)\n",
    "#plt.plot(xs,ys,hold=True)\n",
    "\n",
    "diabetes_y_pred = reg.predict(diabetes_X_test)\n",
    "plt.scatter(diabetes_X_test, diabetes_y_test,  color='black')\n",
    "plt.plot(diabetes_X_test, diabetes_y_pred, color='blue', linewidth=3)\n",
    "\n",
    "plt.xticks(())\n",
    "plt.yticks(())\n",
    "\n",
    "plt.show()"
   ]
  },
  {
   "cell_type": "markdown",
   "metadata": {},
   "source": [
    "## Multiples modèles de régression appris sur des ensembles d'apprentissage différents"
   ]
  },
  {
   "cell_type": "code",
   "execution_count": 19,
   "metadata": {},
   "outputs": [],
   "source": [
    "# Reproduire les mêmes étapes que précedemmebt mais cette fois au sein d'une boucles que vous \n",
    "# répeterez un nombre Nexpes de fois.\n",
    "# Affichez dabns une meme figure les droites de régression apprises sur l'ensemble des itérations\n",
    "def boucle_reg(n, t_size = 0.1):\n",
    "    i = 0\n",
    "    while i < n:\n",
    "        diabetes_X_train, X_test, diabetes_y_train, y_test = train_test_split(diabetes_X_temp, diabetes.target, test_size=t_size)\n",
    "        reg = LinearRegression()\n",
    "        reg.fit(diabetes_X_train, diabetes_y_train)\n",
    "        diabetes_y_pred = reg.predict(diabetes_X_test)\n",
    "        plt.scatter(diabetes_X_test, diabetes_y_test,  color='black')\n",
    "        plt.plot(diabetes_X_test, diabetes_y_pred, color='blue', linewidth=3)\n",
    "        plt.xticks(())\n",
    "        plt.yticks(())\n",
    "        plt.show()\n",
    "        i+=1"
   ]
  },
  {
   "cell_type": "code",
   "execution_count": 20,
   "metadata": {},
   "outputs": [
    {
     "data": {
      "image/png": "[encoded data removed]",
      "text/plain": [
       "<Figure size 432x288 with 1 Axes>"
      ]
     },
     "metadata": {},
     "output_type": "display_data"
    },
    {
     "data": {
      "image/png": "[encoded data removed]",
      "text/plain": [
       "<Figure size 432x288 with 1 Axes>"
      ]
     },
     "metadata": {},
     "output_type": "display_data"
    },
    {
     "data": {
      "image/png": "[encoded data removed]",
      "text/plain": [
       "<Figure size 432x288 with 1 Axes>"
      ]
     },
     "metadata": {},
     "output_type": "display_data"
    }
   ],
   "source": [
    "boucle_reg(3)"
   ]
  },
  {
   "cell_type": "code",
   "execution_count": 21,
   "metadata": {},
   "outputs": [
    {
     "data": {
      "image/png": "[encoded data removed]",
      "text/plain": [
       "<Figure size 432x288 with 1 Axes>"
      ]
     },
     "metadata": {},
     "output_type": "display_data"
    },
    {
     "data": {
      "image/png": "[encoded data removed]",
      "text/plain": [
       "<Figure size 432x288 with 1 Axes>"
      ]
     },
     "metadata": {},
     "output_type": "display_data"
    },
    {
     "data": {
      "image/png": "[encoded data removed]",
      "text/plain": [
       "<Figure size 432x288 with 1 Axes>"
      ]
     },
     "metadata": {},
     "output_type": "display_data"
    },
    {
     "data": {
      "image/png": "[encoded data removed]",
      "text/plain": [
       "<Figure size 432x288 with 1 Axes>"
      ]
     },
     "metadata": {},
     "output_type": "display_data"
    },
    {
     "data": {
      "image/png": "[encoded data removed]",
      "text/plain": [
       "<Figure size 432x288 with 1 Axes>"
      ]
     },
     "metadata": {},
     "output_type": "display_data"
    },
    {
     "data": {
      "image/png": "[encoded data removed]",
      "text/plain": [
       "<Figure size 432x288 with 1 Axes>"
      ]
     },
     "metadata": {},
     "output_type": "display_data"
    }
   ],
   "source": [
    "# Reproduire les expériences précédentes avec différentes tailles de l'ensemble d'apprentissage\n",
    "boucle_reg(3, 0.4)\n",
    "boucle_reg(3, 0.9)"
   ]
  },
  {
   "cell_type": "markdown",
   "metadata": {},
   "source": [
    "# Régression polynomiale"
   ]
  },
  {
   "cell_type": "markdown",
   "metadata": {},
   "source": [
    "## Régression quadratique"
   ]
  },
  {
   "cell_type": "code",
   "execution_count": 77,
   "metadata": {},
   "outputs": [
    {
     "data": {
      "image/png": "[encoded data removed]",
      "text/plain": [
       "<Figure size 432x288 with 1 Axes>"
      ]
     },
     "metadata": {},
     "output_type": "display_data"
    }
   ],
   "source": [
    "# Apprendre un modèle de régression quadratique en transformant les données d'entrée\n",
    "# et en leur ajoutant les termes du second ordre des entrées, pour un ensemble d'apprentissage\n",
    "poly = PolynomialFeatures(2)\n",
    "output_df = poly.fit_transform(diabetes_X_temp)\n",
    "diabetes_X_train, diabetes_X_test, diabetes_y_train, diabetes_y_test = train_test_split(output_df, diabetes.target, test_size=0.10)\n",
    "reg = LinearRegression()\n",
    "reg.fit(diabetes_X_train, diabetes_y_train)\n",
    "diabetes_y_pred = reg.predict(diabetes_X_test)\n",
    "plt.scatter(np.array(diabetes_X_test)[:,1], diabetes_y_test,  color='black')\n",
    "plt.plot(np.array(diabetes_X_test)[:,1], diabetes_y_pred, color='blue', linewidth=3)\n",
    "plt.show()"
   ]
  },
  {
   "cell_type": "code",
   "execution_count": null,
   "metadata": {},
   "outputs": [],
   "source": []
  }
 ],
 "metadata": {
  "kernelspec": {
   "display_name": "Python 3",
   "language": "python",
   "name": "python3"
  },
  "language_info": {
   "codemirror_mode": {
    "name": "ipython",
    "version": 3
   },
   "file_extension": ".py",
   "mimetype": "text/x-python",
   "name": "python",
   "nbconvert_exporter": "python",
   "pygments_lexer": "ipython3",
   "version": "3.7.3"
  }
 },
 "nbformat": 4,
 "nbformat_minor": 4
}
